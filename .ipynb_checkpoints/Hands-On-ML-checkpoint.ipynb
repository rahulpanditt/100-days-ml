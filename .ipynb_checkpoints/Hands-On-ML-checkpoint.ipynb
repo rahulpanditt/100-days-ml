{
 "cells": [
  {
   "cell_type": "code",
   "execution_count": 1,
   "id": "cc5a1777-ecfa-4c43-835c-29cf2079eb3e",
   "metadata": {},
   "outputs": [],
   "source": [
    "import pandas as pd\n",
    "import numpy as np\n",
    "import os \n",
    "import tarfile\n",
    "import urllib "
   ]
  },
  {
   "cell_type": "code",
   "execution_count": 15,
   "id": "0bca88a4",
   "metadata": {},
   "outputs": [],
   "source": [
    "add = os.path.join(\"dataset\",\"housing\")"
   ]
  },
  {
   "cell_type": "code",
   "execution_count": 16,
   "id": "0f5f9729",
   "metadata": {},
   "outputs": [
    {
     "name": "stdout",
     "output_type": "stream",
     "text": [
      "dataset/housing\n"
     ]
    }
   ],
   "source": [
    "print(add)"
   ]
  },
  {
   "cell_type": "code",
   "execution_count": 17,
   "id": "b950dbb7",
   "metadata": {},
   "outputs": [],
   "source": [
    "os.makedirs(add, exist_ok=True)"
   ]
  },
  {
   "cell_type": "code",
   "execution_count": null,
   "id": "3c4906c8",
   "metadata": {},
   "outputs": [],
   "source": [
    "import urllib.request\n",
    "urllib.request.urlretrieve(\"url\",add)"
   ]
  },
  {
   "cell_type": "code",
   "execution_count": 19,
   "id": "6e6daafd",
   "metadata": {},
   "outputs": [],
   "source": [
    "df = pd.read_csv(\"../Datasets/heart.csv\")"
   ]
  },
  {
   "cell_type": "code",
   "execution_count": 20,
   "id": "79498d3b",
   "metadata": {},
   "outputs": [],
   "source": [
    "def split_train_test(df,test_ratio):\n",
    "    shuffled_indices = np.random.permutation(df.shape[0])\n",
    "    test_set_size = int(len(df)*test_ratio)\n",
    "    test_indices = shuffled_indices[:test_set_size]\n",
    "    train_indices = shuffled_indices[test_set_size:]\n",
    "    return df.iloc[train_indices],df.iloc[test_indices]"
   ]
  },
  {
   "cell_type": "code",
   "execution_count": 22,
   "id": "55ab0380",
   "metadata": {},
   "outputs": [],
   "source": [
    "train,test = split_train_test(df=df,test_ratio=0.3)"
   ]
  },
  {
   "cell_type": "code",
   "execution_count": 25,
   "id": "08816ecd",
   "metadata": {},
   "outputs": [
    {
     "data": {
      "text/plain": [
       "213"
      ]
     },
     "execution_count": 25,
     "metadata": {},
     "output_type": "execute_result"
    }
   ],
   "source": [
    "len(train)"
   ]
  },
  {
   "cell_type": "code",
   "execution_count": 26,
   "id": "40231d32",
   "metadata": {},
   "outputs": [
    {
     "data": {
      "text/plain": [
       "90"
      ]
     },
     "execution_count": 26,
     "metadata": {},
     "output_type": "execute_result"
    }
   ],
   "source": [
    "len(test)"
   ]
  },
  {
   "cell_type": "code",
   "execution_count": null,
   "id": "9cdea9e0",
   "metadata": {},
   "outputs": [],
   "source": []
  }
 ],
 "metadata": {
  "kernelspec": {
   "display_name": "Python 3 (ipykernel)",
   "language": "python",
   "name": "python3"
  },
  "language_info": {
   "codemirror_mode": {
    "name": "ipython",
    "version": 3
   },
   "file_extension": ".py",
   "mimetype": "text/x-python",
   "name": "python",
   "nbconvert_exporter": "python",
   "pygments_lexer": "ipython3",
   "version": "3.11.9"
  }
 },
 "nbformat": 4,
 "nbformat_minor": 5
}
