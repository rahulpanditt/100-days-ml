{
 "cells": [
  {
   "cell_type": "code",
   "execution_count": 349,
   "metadata": {},
   "outputs": [],
   "source": [
    "import pandas as pd\n",
    "import numpy as np\n",
    "from mlxtend.plotting import plot_decision_regions"
   ]
  },
  {
   "cell_type": "code",
   "execution_count": 350,
   "metadata": {},
   "outputs": [],
   "source": [
    "df = pd.DataFrame()"
   ]
  },
  {
   "cell_type": "code",
   "execution_count": 351,
   "metadata": {},
   "outputs": [],
   "source": [
    "df['X1'] = [1,2,3,4,5,61,7,8,9,3]\n",
    "df['X2'] = [3,5,1,7,6,3,121,2,3,4]\n",
    "df['label'] = [1,0,1,1,0,1,0,0,1,1]"
   ]
  },
  {
   "cell_type": "code",
   "execution_count": 352,
   "metadata": {},
   "outputs": [
    {
     "data": {
      "text/html": [
       "<div>\n",
       "<style scoped>\n",
       "    .dataframe tbody tr th:only-of-type {\n",
       "        vertical-align: middle;\n",
       "    }\n",
       "\n",
       "    .dataframe tbody tr th {\n",
       "        vertical-align: top;\n",
       "    }\n",
       "\n",
       "    .dataframe thead th {\n",
       "        text-align: right;\n",
       "    }\n",
       "</style>\n",
       "<table border=\"1\" class=\"dataframe\">\n",
       "  <thead>\n",
       "    <tr style=\"text-align: right;\">\n",
       "      <th></th>\n",
       "      <th>X1</th>\n",
       "      <th>X2</th>\n",
       "      <th>label</th>\n",
       "    </tr>\n",
       "  </thead>\n",
       "  <tbody>\n",
       "    <tr>\n",
       "      <th>0</th>\n",
       "      <td>1</td>\n",
       "      <td>3</td>\n",
       "      <td>1</td>\n",
       "    </tr>\n",
       "    <tr>\n",
       "      <th>1</th>\n",
       "      <td>2</td>\n",
       "      <td>5</td>\n",
       "      <td>0</td>\n",
       "    </tr>\n",
       "    <tr>\n",
       "      <th>2</th>\n",
       "      <td>3</td>\n",
       "      <td>1</td>\n",
       "      <td>1</td>\n",
       "    </tr>\n",
       "    <tr>\n",
       "      <th>3</th>\n",
       "      <td>4</td>\n",
       "      <td>7</td>\n",
       "      <td>1</td>\n",
       "    </tr>\n",
       "    <tr>\n",
       "      <th>4</th>\n",
       "      <td>5</td>\n",
       "      <td>6</td>\n",
       "      <td>0</td>\n",
       "    </tr>\n",
       "    <tr>\n",
       "      <th>5</th>\n",
       "      <td>61</td>\n",
       "      <td>3</td>\n",
       "      <td>1</td>\n",
       "    </tr>\n",
       "    <tr>\n",
       "      <th>6</th>\n",
       "      <td>7</td>\n",
       "      <td>121</td>\n",
       "      <td>0</td>\n",
       "    </tr>\n",
       "    <tr>\n",
       "      <th>7</th>\n",
       "      <td>8</td>\n",
       "      <td>2</td>\n",
       "      <td>0</td>\n",
       "    </tr>\n",
       "    <tr>\n",
       "      <th>8</th>\n",
       "      <td>9</td>\n",
       "      <td>3</td>\n",
       "      <td>1</td>\n",
       "    </tr>\n",
       "    <tr>\n",
       "      <th>9</th>\n",
       "      <td>3</td>\n",
       "      <td>4</td>\n",
       "      <td>1</td>\n",
       "    </tr>\n",
       "  </tbody>\n",
       "</table>\n",
       "</div>"
      ],
      "text/plain": [
       "   X1   X2  label\n",
       "0   1    3      1\n",
       "1   2    5      0\n",
       "2   3    1      1\n",
       "3   4    7      1\n",
       "4   5    6      0\n",
       "5  61    3      1\n",
       "6   7  121      0\n",
       "7   8    2      0\n",
       "8   9    3      1\n",
       "9   3    4      1"
      ]
     },
     "execution_count": 352,
     "metadata": {},
     "output_type": "execute_result"
    }
   ],
   "source": [
    "df"
   ]
  },
  {
   "cell_type": "code",
   "execution_count": 353,
   "metadata": {},
   "outputs": [],
   "source": [
    "dt_array=[]\n",
    "alpha_array= []\n",
    "df_array=[]\n",
    "df_array.append(df)"
   ]
  },
  {
   "cell_type": "code",
   "execution_count": 354,
   "metadata": {},
   "outputs": [],
   "source": [
    "def find_error(df):\n",
    "    return 1-np.sum(df.loc[df['label']==df['y_pred'],'weights'])"
   ]
  },
  {
   "cell_type": "code",
   "execution_count": 355,
   "metadata": {},
   "outputs": [],
   "source": [
    "\n",
    "def calculate_alpha(error):\n",
    "    if error==0:\n",
    "        return 0\n",
    "    else:\n",
    "        return 0.5*np.log((1-error)/error)\n"
   ]
  },
  {
   "cell_type": "code",
   "execution_count": 356,
   "metadata": {},
   "outputs": [],
   "source": [
    "def update_row_weights(row,alpha):\n",
    "    if row['label']==row['y_pred']:\n",
    "        return row['weights']*np.exp(-alpha)\n",
    "    else:\n",
    "        return row['weights']*np.exp(alpha)\n",
    "    "
   ]
  },
  {
   "cell_type": "code",
   "execution_count": 357,
   "metadata": {},
   "outputs": [],
   "source": [
    "def find_index(df):\n",
    "    indices=[]\n",
    "    for i in range(df.shape[0]):\n",
    "        num = np.random.rand()\n",
    "        for index,row in df.iterrows():\n",
    "            if(row['lower']<=num and row['upper']>num):\n",
    "                indices.append(index)\n",
    "                break\n",
    "    return indices\n"
   ]
  },
  {
   "cell_type": "code",
   "execution_count": 358,
   "metadata": {},
   "outputs": [],
   "source": [
    "def adaBoost(df):\n",
    "    df['weights'] = 1/df.shape[0]\n",
    "    dt = DecisionTreeClassifier(max_depth=1)\n",
    "    dt_array.append(dt)\n",
    "    X = df.iloc[:,0:2]\n",
    "    y = df.iloc[:,2]\n",
    "    dt.fit(X,y)\n",
    "    df['y_pred'] = dt.predict(X)\n",
    "    error = find_error(df)\n",
    "    alpha_array.append(calculate_alpha(error))\n",
    "    df['updated_weights']=df.apply(update_row_weights,alpha=alpha_array[-1],axis=1)\n",
    "    df['normalised_weight']=df['updated_weights']/df['updated_weights'].sum()\n",
    "    df['upper']=np.cumsum(df['normalised_weight'])\n",
    "    df['lower'] = df['upper']-df['normalised_weight']\n",
    "    index_array = find_index(df)\n",
    "    df = pd.DataFrame()\n",
    "    print(df)\n",
    "    print(df_array[-1].iloc[index_array,[0,1,2,3]])\n",
    "    return df_array[-1].iloc[index_array,[0,1,2,3]]\n"
   ]
  },
  {
   "cell_type": "code",
   "execution_count": 359,
   "metadata": {},
   "outputs": [
    {
     "name": "stdout",
     "output_type": "stream",
     "text": [
      "Empty DataFrame\n",
      "Columns: []\n",
      "Index: []\n",
      "   X1  X2  label  weights\n",
      "7   8   2      0      0.1\n",
      "3   4   7      1      0.1\n",
      "4   5   6      0      0.1\n",
      "2   3   1      1      0.1\n",
      "4   5   6      0      0.1\n",
      "5  61   3      1      0.1\n",
      "7   8   2      0      0.1\n",
      "3   4   7      1      0.1\n",
      "2   3   1      1      0.1\n",
      "5  61   3      1      0.1\n",
      "Empty DataFrame\n",
      "Columns: []\n",
      "Index: []\n",
      "   X1  X2  label  weights\n",
      "4   5   6      0      0.1\n",
      "5  61   3      1      0.1\n",
      "4   5   6      0      0.1\n",
      "4   5   6      0      0.1\n",
      "2   3   1      1      0.1\n",
      "4   5   6      0      0.1\n",
      "4   5   6      0      0.1\n",
      "2   3   1      1      0.1\n",
      "5  61   3      1      0.1\n",
      "3   4   7      1      0.1\n",
      "Empty DataFrame\n",
      "Columns: []\n",
      "Index: []\n",
      "   X1  X2  label  weights\n",
      "4   5   6      0      0.1\n",
      "4   5   6      0      0.1\n",
      "4   5   6      0      0.1\n",
      "4   5   6      0      0.1\n",
      "4   5   6      0      0.1\n",
      "4   5   6      0      0.1\n",
      "4   5   6      0      0.1\n",
      "4   5   6      0      0.1\n",
      "4   5   6      0      0.1\n",
      "4   5   6      0      0.1\n",
      "Empty DataFrame\n",
      "Columns: []\n",
      "Index: []\n",
      "   X1  X2  label  weights\n",
      "4   5   6      0      0.1\n",
      "4   5   6      0      0.1\n",
      "4   5   6      0      0.1\n",
      "4   5   6      0      0.1\n",
      "4   5   6      0      0.1\n",
      "4   5   6      0      0.1\n",
      "4   5   6      0      0.1\n",
      "4   5   6      0      0.1\n",
      "4   5   6      0      0.1\n",
      "4   5   6      0      0.1\n",
      "Empty DataFrame\n",
      "Columns: []\n",
      "Index: []\n",
      "   X1  X2  label  weights\n",
      "4   5   6      0      0.1\n",
      "4   5   6      0      0.1\n",
      "4   5   6      0      0.1\n",
      "4   5   6      0      0.1\n",
      "4   5   6      0      0.1\n",
      "4   5   6      0      0.1\n",
      "4   5   6      0      0.1\n",
      "4   5   6      0      0.1\n",
      "4   5   6      0      0.1\n",
      "4   5   6      0      0.1\n"
     ]
    }
   ],
   "source": [
    "for i in range(5):\n",
    "    df_array.append(adaBoost(df_array[i]))"
   ]
  },
  {
   "cell_type": "code",
   "execution_count": 360,
   "metadata": {},
   "outputs": [
    {
     "data": {
      "text/html": [
       "<div>\n",
       "<style scoped>\n",
       "    .dataframe tbody tr th:only-of-type {\n",
       "        vertical-align: middle;\n",
       "    }\n",
       "\n",
       "    .dataframe tbody tr th {\n",
       "        vertical-align: top;\n",
       "    }\n",
       "\n",
       "    .dataframe thead th {\n",
       "        text-align: right;\n",
       "    }\n",
       "</style>\n",
       "<table border=\"1\" class=\"dataframe\">\n",
       "  <thead>\n",
       "    <tr style=\"text-align: right;\">\n",
       "      <th></th>\n",
       "      <th>X1</th>\n",
       "      <th>X2</th>\n",
       "      <th>label</th>\n",
       "      <th>weights</th>\n",
       "      <th>y_pred</th>\n",
       "      <th>updated_weights</th>\n",
       "      <th>lower</th>\n",
       "      <th>upper</th>\n",
       "    </tr>\n",
       "  </thead>\n",
       "  <tbody>\n",
       "    <tr>\n",
       "      <th>0</th>\n",
       "      <td>1</td>\n",
       "      <td>3</td>\n",
       "      <td>1</td>\n",
       "      <td>0.1</td>\n",
       "      <td>1</td>\n",
       "      <td>0.05</td>\n",
       "      <td>0.0000</td>\n",
       "      <td>0.0625</td>\n",
       "    </tr>\n",
       "    <tr>\n",
       "      <th>1</th>\n",
       "      <td>2</td>\n",
       "      <td>5</td>\n",
       "      <td>0</td>\n",
       "      <td>0.1</td>\n",
       "      <td>0</td>\n",
       "      <td>0.05</td>\n",
       "      <td>0.0625</td>\n",
       "      <td>0.1250</td>\n",
       "    </tr>\n",
       "    <tr>\n",
       "      <th>2</th>\n",
       "      <td>3</td>\n",
       "      <td>1</td>\n",
       "      <td>1</td>\n",
       "      <td>0.1</td>\n",
       "      <td>1</td>\n",
       "      <td>0.05</td>\n",
       "      <td>0.1250</td>\n",
       "      <td>0.1875</td>\n",
       "    </tr>\n",
       "    <tr>\n",
       "      <th>3</th>\n",
       "      <td>4</td>\n",
       "      <td>7</td>\n",
       "      <td>1</td>\n",
       "      <td>0.1</td>\n",
       "      <td>0</td>\n",
       "      <td>0.20</td>\n",
       "      <td>0.1875</td>\n",
       "      <td>0.4375</td>\n",
       "    </tr>\n",
       "    <tr>\n",
       "      <th>4</th>\n",
       "      <td>5</td>\n",
       "      <td>6</td>\n",
       "      <td>0</td>\n",
       "      <td>0.1</td>\n",
       "      <td>0</td>\n",
       "      <td>0.05</td>\n",
       "      <td>0.4375</td>\n",
       "      <td>0.5000</td>\n",
       "    </tr>\n",
       "    <tr>\n",
       "      <th>5</th>\n",
       "      <td>61</td>\n",
       "      <td>3</td>\n",
       "      <td>1</td>\n",
       "      <td>0.1</td>\n",
       "      <td>1</td>\n",
       "      <td>0.05</td>\n",
       "      <td>0.5000</td>\n",
       "      <td>0.5625</td>\n",
       "    </tr>\n",
       "    <tr>\n",
       "      <th>6</th>\n",
       "      <td>7</td>\n",
       "      <td>121</td>\n",
       "      <td>0</td>\n",
       "      <td>0.1</td>\n",
       "      <td>0</td>\n",
       "      <td>0.05</td>\n",
       "      <td>0.5625</td>\n",
       "      <td>0.6250</td>\n",
       "    </tr>\n",
       "    <tr>\n",
       "      <th>7</th>\n",
       "      <td>8</td>\n",
       "      <td>2</td>\n",
       "      <td>0</td>\n",
       "      <td>0.1</td>\n",
       "      <td>1</td>\n",
       "      <td>0.20</td>\n",
       "      <td>0.6250</td>\n",
       "      <td>0.8750</td>\n",
       "    </tr>\n",
       "    <tr>\n",
       "      <th>8</th>\n",
       "      <td>9</td>\n",
       "      <td>3</td>\n",
       "      <td>1</td>\n",
       "      <td>0.1</td>\n",
       "      <td>1</td>\n",
       "      <td>0.05</td>\n",
       "      <td>0.8750</td>\n",
       "      <td>0.9375</td>\n",
       "    </tr>\n",
       "    <tr>\n",
       "      <th>9</th>\n",
       "      <td>3</td>\n",
       "      <td>4</td>\n",
       "      <td>1</td>\n",
       "      <td>0.1</td>\n",
       "      <td>1</td>\n",
       "      <td>0.05</td>\n",
       "      <td>0.9375</td>\n",
       "      <td>1.0000</td>\n",
       "    </tr>\n",
       "  </tbody>\n",
       "</table>\n",
       "</div>"
      ],
      "text/plain": [
       "   X1   X2  label  weights  y_pred  updated_weights   lower   upper\n",
       "0   1    3      1      0.1       1             0.05  0.0000  0.0625\n",
       "1   2    5      0      0.1       0             0.05  0.0625  0.1250\n",
       "2   3    1      1      0.1       1             0.05  0.1250  0.1875\n",
       "3   4    7      1      0.1       0             0.20  0.1875  0.4375\n",
       "4   5    6      0      0.1       0             0.05  0.4375  0.5000\n",
       "5  61    3      1      0.1       1             0.05  0.5000  0.5625\n",
       "6   7  121      0      0.1       0             0.05  0.5625  0.6250\n",
       "7   8    2      0      0.1       1             0.20  0.6250  0.8750\n",
       "8   9    3      1      0.1       1             0.05  0.8750  0.9375\n",
       "9   3    4      1      0.1       1             0.05  0.9375  1.0000"
      ]
     },
     "execution_count": 360,
     "metadata": {},
     "output_type": "execute_result"
    }
   ],
   "source": [
    "df[['X1','X2','label','weights','y_pred','updated_weights','lower','upper']]"
   ]
  },
  {
   "cell_type": "code",
   "execution_count": 361,
   "metadata": {},
   "outputs": [
    {
     "name": "stdout",
     "output_type": "stream",
     "text": [
      "6\n"
     ]
    }
   ],
   "source": [
    "print(df_array.__len__())"
   ]
  },
  {
   "cell_type": "code",
   "execution_count": 362,
   "metadata": {},
   "outputs": [
    {
     "data": {
      "text/plain": [
       "[DecisionTreeClassifier(max_depth=1),\n",
       " DecisionTreeClassifier(max_depth=1),\n",
       " DecisionTreeClassifier(max_depth=1),\n",
       " DecisionTreeClassifier(max_depth=1),\n",
       " DecisionTreeClassifier(max_depth=1)]"
      ]
     },
     "execution_count": 362,
     "metadata": {},
     "output_type": "execute_result"
    }
   ],
   "source": [
    "dt_array"
   ]
  },
  {
   "cell_type": "code",
   "execution_count": 363,
   "metadata": {},
   "outputs": [
    {
     "data": {
      "text/plain": [
       "[0.6931471805599454, 0.6931471805599454, 1.0986122886681098, 0, 0]"
      ]
     },
     "execution_count": 363,
     "metadata": {},
     "output_type": "execute_result"
    }
   ],
   "source": [
    "alpha_array"
   ]
  },
  {
   "cell_type": "code",
   "execution_count": 364,
   "metadata": {},
   "outputs": [],
   "source": [
    "def result(query):\n",
    "    ans = 0\n",
    "    for i in range(4):\n",
    "        print(np.sign(ans))\n",
    "        ans =  ans +  alpha_array[i]*dt_array[i].predict(query)[0]\n",
    "        \n",
    "    return np.sign(ans)"
   ]
  },
  {
   "cell_type": "code",
   "execution_count": 367,
   "metadata": {},
   "outputs": [
    {
     "name": "stdout",
     "output_type": "stream",
     "text": [
      "0\n",
      "0.0\n",
      "0.0\n",
      "0.0\n"
     ]
    },
    {
     "name": "stderr",
     "output_type": "stream",
     "text": [
      "/Users/spydee/anaconda3/lib/python3.11/site-packages/sklearn/base.py:493: UserWarning: X does not have valid feature names, but DecisionTreeClassifier was fitted with feature names\n",
      "  warnings.warn(\n",
      "/Users/spydee/anaconda3/lib/python3.11/site-packages/sklearn/base.py:493: UserWarning: X does not have valid feature names, but DecisionTreeClassifier was fitted with feature names\n",
      "  warnings.warn(\n",
      "/Users/spydee/anaconda3/lib/python3.11/site-packages/sklearn/base.py:493: UserWarning: X does not have valid feature names, but DecisionTreeClassifier was fitted with feature names\n",
      "  warnings.warn(\n",
      "/Users/spydee/anaconda3/lib/python3.11/site-packages/sklearn/base.py:493: UserWarning: X does not have valid feature names, but DecisionTreeClassifier was fitted with feature names\n",
      "  warnings.warn(\n"
     ]
    },
    {
     "data": {
      "text/plain": [
       "0.0"
      ]
     },
     "execution_count": 367,
     "metadata": {},
     "output_type": "execute_result"
    }
   ],
   "source": [
    "query = np.array([7,121]).reshape(1,2)\n",
    "result(query)"
   ]
  },
  {
   "cell_type": "code",
   "execution_count": null,
   "metadata": {},
   "outputs": [],
   "source": []
  },
  {
   "cell_type": "code",
   "execution_count": null,
   "metadata": {},
   "outputs": [],
   "source": []
  }
 ],
 "metadata": {
  "kernelspec": {
   "display_name": "base",
   "language": "python",
   "name": "python3"
  },
  "language_info": {
   "codemirror_mode": {
    "name": "ipython",
    "version": 3
   },
   "file_extension": ".py",
   "mimetype": "text/x-python",
   "name": "python",
   "nbconvert_exporter": "python",
   "pygments_lexer": "ipython3",
   "version": "3.11.9"
  }
 },
 "nbformat": 4,
 "nbformat_minor": 2
}
