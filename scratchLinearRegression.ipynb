{
 "cells": [
  {
   "cell_type": "code",
   "execution_count": 15,
   "metadata": {},
   "outputs": [],
   "source": [
    "class LR:\n",
    "    def __init__(self) -> None:\n",
    "        self.m = None\n",
    "        self.b = None\n",
    "    def fit(self, X_train, y_train):\n",
    "        X_train = X_train.astype('float64')\n",
    "        y_train = y_train.astype('float64')\n",
    "        num = 0\n",
    "        den = 0\n",
    "        for i in range(X_train.shape[0]):\n",
    "            num += ((X_train[i] - X_train.mean()) * (y_train[i] - y_train.mean()))\n",
    "            den += ((X_train[i] - X_train.mean()) ** 2)\n",
    "        self.m = num / den\n",
    "        self.b = y_train.mean() - self.m * X_train.mean()\n",
    "    def predict(self, X_test):\n",
    "        return X_test*self.m + self.b\n"
   ]
  },
  {
   "cell_type": "code",
   "execution_count": 16,
   "metadata": {},
   "outputs": [],
   "source": [
    "import numpy as np\n",
    "import pandas as pd"
   ]
  },
  {
   "cell_type": "code",
   "execution_count": 17,
   "metadata": {},
   "outputs": [],
   "source": [
    "df = pd.read_csv('../Datasets/indian_population.csv')"
   ]
  },
  {
   "cell_type": "code",
   "execution_count": 18,
   "metadata": {},
   "outputs": [
    {
     "data": {
      "text/html": [
       "<div>\n",
       "<style scoped>\n",
       "    .dataframe tbody tr th:only-of-type {\n",
       "        vertical-align: middle;\n",
       "    }\n",
       "\n",
       "    .dataframe tbody tr th {\n",
       "        vertical-align: top;\n",
       "    }\n",
       "\n",
       "    .dataframe thead th {\n",
       "        text-align: right;\n",
       "    }\n",
       "</style>\n",
       "<table border=\"1\" class=\"dataframe\">\n",
       "  <thead>\n",
       "    <tr style=\"text-align: right;\">\n",
       "      <th></th>\n",
       "      <th>Year</th>\n",
       "      <th>Population</th>\n",
       "      <th>% Increase in Population</th>\n",
       "      <th>Population Density</th>\n",
       "      <th>% Increase in Population Density</th>\n",
       "      <th>Urban Population</th>\n",
       "      <th>Urban Population % of Total Population</th>\n",
       "      <th>% Increase in Urban Population</th>\n",
       "      <th>Rural Population</th>\n",
       "      <th>Rural Population % of Total Population</th>\n",
       "      <th>...</th>\n",
       "      <th>Birth Rate</th>\n",
       "      <th>% Change in Birth Rate</th>\n",
       "      <th>Death Rate</th>\n",
       "      <th>% Change in Death Rate</th>\n",
       "      <th>Infant Mortality Rate</th>\n",
       "      <th>% Change in Infant Mortality Rate</th>\n",
       "      <th>Fertility Rate</th>\n",
       "      <th>% Change in Fertility Rate</th>\n",
       "      <th>Net Migration Rate</th>\n",
       "      <th>% Change in Net Migration Rate</th>\n",
       "    </tr>\n",
       "  </thead>\n",
       "  <tbody>\n",
       "    <tr>\n",
       "      <th>0</th>\n",
       "      <td>1950</td>\n",
       "      <td>35,70,21,100</td>\n",
       "      <td>0.00%</td>\n",
       "      <td>108.61</td>\n",
       "      <td>0.00%</td>\n",
       "      <td>Null</td>\n",
       "      <td>Null</td>\n",
       "      <td>Null</td>\n",
       "      <td>Null</td>\n",
       "      <td>Null</td>\n",
       "      <td>...</td>\n",
       "      <td>44.175</td>\n",
       "      <td>0.00%</td>\n",
       "      <td>28.161</td>\n",
       "      <td>0.00%</td>\n",
       "      <td>189.629</td>\n",
       "      <td>0.00%</td>\n",
       "      <td>5.907</td>\n",
       "      <td>0.00%</td>\n",
       "      <td>-0.043</td>\n",
       "      <td>0.00%</td>\n",
       "    </tr>\n",
       "    <tr>\n",
       "      <th>1</th>\n",
       "      <td>1951</td>\n",
       "      <td>36,49,22,360</td>\n",
       "      <td>2.21%</td>\n",
       "      <td>111.01</td>\n",
       "      <td>2.21%</td>\n",
       "      <td>Null</td>\n",
       "      <td>Null</td>\n",
       "      <td>Null</td>\n",
       "      <td>Null</td>\n",
       "      <td>Null</td>\n",
       "      <td>...</td>\n",
       "      <td>43.970</td>\n",
       "      <td>-0.46%</td>\n",
       "      <td>27.584</td>\n",
       "      <td>-2.05%</td>\n",
       "      <td>186.737</td>\n",
       "      <td>-1.53%</td>\n",
       "      <td>5.906</td>\n",
       "      <td>-0.02%</td>\n",
       "      <td>-0.047</td>\n",
       "      <td>9.30%</td>\n",
       "    </tr>\n",
       "    <tr>\n",
       "      <th>2</th>\n",
       "      <td>1952</td>\n",
       "      <td>37,29,97,188</td>\n",
       "      <td>2.21%</td>\n",
       "      <td>113.47</td>\n",
       "      <td>2.21%</td>\n",
       "      <td>Null</td>\n",
       "      <td>Null</td>\n",
       "      <td>Null</td>\n",
       "      <td>Null</td>\n",
       "      <td>Null</td>\n",
       "      <td>...</td>\n",
       "      <td>43.764</td>\n",
       "      <td>-0.47%</td>\n",
       "      <td>27.008</td>\n",
       "      <td>-2.09%</td>\n",
       "      <td>183.846</td>\n",
       "      <td>-1.55%</td>\n",
       "      <td>5.904</td>\n",
       "      <td>-0.03%</td>\n",
       "      <td>-0.050</td>\n",
       "      <td>6.38%</td>\n",
       "    </tr>\n",
       "    <tr>\n",
       "      <th>3</th>\n",
       "      <td>1953</td>\n",
       "      <td>38,12,27,705</td>\n",
       "      <td>2.21%</td>\n",
       "      <td>115.97</td>\n",
       "      <td>2.21%</td>\n",
       "      <td>Null</td>\n",
       "      <td>Null</td>\n",
       "      <td>Null</td>\n",
       "      <td>Null</td>\n",
       "      <td>Null</td>\n",
       "      <td>...</td>\n",
       "      <td>43.558</td>\n",
       "      <td>-0.47%</td>\n",
       "      <td>26.432</td>\n",
       "      <td>-2.13%</td>\n",
       "      <td>180.954</td>\n",
       "      <td>-1.57%</td>\n",
       "      <td>5.903</td>\n",
       "      <td>-0.02%</td>\n",
       "      <td>-0.054</td>\n",
       "      <td>8.00%</td>\n",
       "    </tr>\n",
       "    <tr>\n",
       "      <th>4</th>\n",
       "      <td>1954</td>\n",
       "      <td>38,97,31,406</td>\n",
       "      <td>2.23%</td>\n",
       "      <td>118.56</td>\n",
       "      <td>2.23%</td>\n",
       "      <td>Null</td>\n",
       "      <td>Null</td>\n",
       "      <td>Null</td>\n",
       "      <td>Null</td>\n",
       "      <td>Null</td>\n",
       "      <td>...</td>\n",
       "      <td>43.352</td>\n",
       "      <td>-0.47%</td>\n",
       "      <td>25.856</td>\n",
       "      <td>-2.18%</td>\n",
       "      <td>178.062</td>\n",
       "      <td>-1.60%</td>\n",
       "      <td>5.902</td>\n",
       "      <td>-0.02%</td>\n",
       "      <td>-0.058</td>\n",
       "      <td>7.41%</td>\n",
       "    </tr>\n",
       "  </tbody>\n",
       "</table>\n",
       "<p>5 rows × 23 columns</p>\n",
       "</div>"
      ],
      "text/plain": [
       "   Year    Population % Increase in Population  Population Density  \\\n",
       "0  1950  35,70,21,100                    0.00%              108.61   \n",
       "1  1951  36,49,22,360                    2.21%              111.01   \n",
       "2  1952  37,29,97,188                    2.21%              113.47   \n",
       "3  1953  38,12,27,705                    2.21%              115.97   \n",
       "4  1954  38,97,31,406                    2.23%              118.56   \n",
       "\n",
       "  % Increase in Population Density Urban Population  \\\n",
       "0                            0.00%             Null   \n",
       "1                            2.21%             Null   \n",
       "2                            2.21%             Null   \n",
       "3                            2.21%             Null   \n",
       "4                            2.23%             Null   \n",
       "\n",
       "  Urban Population % of Total Population % Increase in Urban Population  \\\n",
       "0                                   Null                           Null   \n",
       "1                                   Null                           Null   \n",
       "2                                   Null                           Null   \n",
       "3                                   Null                           Null   \n",
       "4                                   Null                           Null   \n",
       "\n",
       "  Rural Population Rural Population % of Total Population  ... Birth Rate  \\\n",
       "0             Null                                   Null  ...     44.175   \n",
       "1             Null                                   Null  ...     43.970   \n",
       "2             Null                                   Null  ...     43.764   \n",
       "3             Null                                   Null  ...     43.558   \n",
       "4             Null                                   Null  ...     43.352   \n",
       "\n",
       "   % Change in Birth Rate Death Rate  % Change in Death Rate  \\\n",
       "0                   0.00%     28.161                   0.00%   \n",
       "1                  -0.46%     27.584                  -2.05%   \n",
       "2                  -0.47%     27.008                  -2.09%   \n",
       "3                  -0.47%     26.432                  -2.13%   \n",
       "4                  -0.47%     25.856                  -2.18%   \n",
       "\n",
       "  Infant Mortality Rate  % Change in Infant Mortality Rate Fertility Rate  \\\n",
       "0               189.629                              0.00%          5.907   \n",
       "1               186.737                             -1.53%          5.906   \n",
       "2               183.846                             -1.55%          5.904   \n",
       "3               180.954                             -1.57%          5.903   \n",
       "4               178.062                             -1.60%          5.902   \n",
       "\n",
       "   % Change in Fertility Rate Net Migration Rate  \\\n",
       "0                       0.00%             -0.043   \n",
       "1                      -0.02%             -0.047   \n",
       "2                      -0.03%             -0.050   \n",
       "3                      -0.02%             -0.054   \n",
       "4                      -0.02%             -0.058   \n",
       "\n",
       "   % Change in Net Migration Rate  \n",
       "0                           0.00%  \n",
       "1                           9.30%  \n",
       "2                           6.38%  \n",
       "3                           8.00%  \n",
       "4                           7.41%  \n",
       "\n",
       "[5 rows x 23 columns]"
      ]
     },
     "execution_count": 18,
     "metadata": {},
     "output_type": "execute_result"
    }
   ],
   "source": [
    "df.head()"
   ]
  },
  {
   "cell_type": "code",
   "execution_count": 19,
   "metadata": {},
   "outputs": [],
   "source": [
    "X = df.iloc[:,0].values\n",
    "y = df.iloc[:,3].values"
   ]
  },
  {
   "cell_type": "code",
   "execution_count": 20,
   "metadata": {},
   "outputs": [],
   "source": [
    "from sklearn.model_selection import train_test_split\n",
    "X_train,X_test,y_train,y_test = train_test_split(X,y,test_size=0.2,random_state=2)\n"
   ]
  },
  {
   "cell_type": "code",
   "execution_count": 21,
   "metadata": {},
   "outputs": [
    {
     "data": {
      "text/plain": [
       "(58,)"
      ]
     },
     "execution_count": 21,
     "metadata": {},
     "output_type": "execute_result"
    }
   ],
   "source": [
    "X_train.shape"
   ]
  },
  {
   "cell_type": "code",
   "execution_count": 22,
   "metadata": {},
   "outputs": [],
   "source": [
    "lr = LR()"
   ]
  },
  {
   "cell_type": "code",
   "execution_count": 23,
   "metadata": {},
   "outputs": [
    {
     "name": "stdout",
     "output_type": "stream",
     "text": [
      "X_train dtype: float64\n",
      "y_train dtype: float64\n",
      "X_train shape: (58,)\n",
      "y_train shape: (58,)\n"
     ]
    }
   ],
   "source": [
    "lr.fit(X_train,y_train) "
   ]
  },
  {
   "cell_type": "code",
   "execution_count": 26,
   "metadata": {},
   "outputs": [],
   "source": [
    "y_pred  = lr.predict(X_test)\n",
    "ans = y_test - y_pred"
   ]
  },
  {
   "cell_type": "code",
   "execution_count": 28,
   "metadata": {},
   "outputs": [
    {
     "data": {
      "text/plain": [
       "-1.425769238556083"
      ]
     },
     "execution_count": 28,
     "metadata": {},
     "output_type": "execute_result"
    }
   ],
   "source": [
    "ans.mean()"
   ]
  }
 ],
 "metadata": {
  "kernelspec": {
   "display_name": "base",
   "language": "python",
   "name": "python3"
  },
  "language_info": {
   "codemirror_mode": {
    "name": "ipython",
    "version": 3
   },
   "file_extension": ".py",
   "mimetype": "text/x-python",
   "name": "python",
   "nbconvert_exporter": "python",
   "pygments_lexer": "ipython3",
   "version": "3.11.9"
  }
 },
 "nbformat": 4,
 "nbformat_minor": 2
}
